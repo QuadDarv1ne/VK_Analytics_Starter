{
 "cells": [
  {
   "cell_type": "markdown",
   "metadata": {},
   "source": [
    "#### Визуализация с помощью Pandas"
   ]
  },
  {
   "cell_type": "code",
   "execution_count": 1,
   "metadata": {},
   "outputs": [],
   "source": [
    "import pandas as pd\n",
    "import numpy as np\n",
    "%matplotlib inline\n",
    "import matplotlib.pyplot as plt"
   ]
  },
  {
   "cell_type": "markdown",
   "metadata": {},
   "source": [
    "Датасет - https://www.kaggle.com/datasets/fedesoriano/heart-failure-prediction"
   ]
  },
  {
   "cell_type": "code",
   "execution_count": null,
   "metadata": {},
   "outputs": [],
   "source": [
    "# Чтение данных из CSV-файла\n",
    "df = pd.read_csv('files/heart.csv', sep=';')\n",
    "\n",
    "# Просмотр первых строк данных\n",
    "df.head(2)\n",
    "\n",
    "# Получение информации о данных\n",
    "df.info()\n",
    "\n",
    "# Описание данных\n",
    "df.describe()\n",
    "\n",
    "# Обработка пропущенных значений\n",
    "# Реализация функции plot в pandas основана на библиотеке matplotlib\n",
    "df['Cholesterol'] = np.where(df['Cholesterol'] == 0, np.nan, df['Cholesterol'])\n",
    "df['RestingBP'] = np.where(df['RestingBP'] == 0, np.nan, df['RestingBP'])\n",
    "df['FastingBS'] = np.where(df['FastingBS'] == 0, np.nan, df['FastingBS'])"
   ]
  },
  {
   "cell_type": "code",
   "execution_count": null,
   "metadata": {},
   "outputs": [],
   "source": [
    "# Визуализация данных\n",
    "\n",
    "# Столбчатая диаграмма (без сортировки)\n",
    "fig = plt.figure(figsize=(14, 5))\n",
    "df['ChestPainType'].value_counts().plot.bar()\n",
    "plt.show()\n",
    "\n",
    "# Столбчатая диаграмма (с сортировкой)\n",
    "fig = plt.figure(figsize=(14, 5))\n",
    "df['ChestPainType'].value_counts().sort_index().plot.bar()\n",
    "plt.show()\n",
    "\n",
    "# Горизонтальная столбчатая диаграмма\n",
    "fig = plt.figure(figsize=(14, 5))\n",
    "(df['ChestPainType'].value_counts() / len(df)).plot.bar()\n",
    "plt.show()"
   ]
  },
  {
   "cell_type": "code",
   "execution_count": null,
   "metadata": {},
   "outputs": [],
   "source": [
    "# Группировка данных (группирует данные по столбцу HeartDisease и вычисляет средние значения для столбцов Age и Cholesterol.)\n",
    "df.groupby(['HeartDisease'])[['Age', 'Cholesterol']].mean()"
   ]
  }
 ],
 "metadata": {
  "kernelspec": {
   "display_name": "Python 3",
   "language": "python",
   "name": "python3"
  },
  "language_info": {
   "codemirror_mode": {
    "name": "ipython",
    "version": 3
   },
   "file_extension": ".py",
   "mimetype": "text/x-python",
   "name": "python",
   "nbconvert_exporter": "python",
   "pygments_lexer": "ipython3",
   "version": "3.13.2"
  }
 },
 "nbformat": 4,
 "nbformat_minor": 2
}
