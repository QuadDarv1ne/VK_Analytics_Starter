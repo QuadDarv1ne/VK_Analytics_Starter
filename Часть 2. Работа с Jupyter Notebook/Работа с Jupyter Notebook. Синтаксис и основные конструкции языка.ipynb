{
 "cells": [
  {
   "cell_type": "markdown",
   "metadata": {},
   "source": [
    "**Лекция 3. Работа с Jupyter Notebook. Синтаксис и основные конструкции языка**\n",
    "`Ссылка` - https://education.vk.company/curriculum/program/lesson/31781/"
   ]
  },
  {
   "cell_type": "markdown",
   "metadata": {},
   "source": [
    "#### Комментарии"
   ]
  },
  {
   "cell_type": "code",
   "execution_count": 11,
   "metadata": {},
   "outputs": [],
   "source": [
    "# это первый комментарий\n",
    "spam = 1 # это второй комментарий\n",
    "# ... а сейчас третий!\n",
    "text = \"# Это не комментарий, потому что он внутри кавычек.\"\n",
    "\n",
    "# CTRL + /"
   ]
  },
  {
   "cell_type": "markdown",
   "metadata": {},
   "source": [
    "#### Вывод данных"
   ]
  },
  {
   "cell_type": "code",
   "execution_count": 12,
   "metadata": {},
   "outputs": [
    {
     "name": "stdout",
     "output_type": "stream",
     "text": [
      "Всем привет!\n",
      "A B C\n",
      "A!B!C\n"
     ]
    }
   ],
   "source": [
    "print(\"Всем привет!\")\n",
    "print(\"A\", \"B\", \"C\")\n",
    "print(\"A\", \"B\", \"C\", sep=\"!\")"
   ]
  },
  {
   "cell_type": "markdown",
   "metadata": {},
   "source": [
    "#### Числа"
   ]
  },
  {
   "cell_type": "code",
   "execution_count": 13,
   "metadata": {},
   "outputs": [
    {
     "data": {
      "text/plain": [
       "1.6"
      ]
     },
     "execution_count": 13,
     "metadata": {},
     "output_type": "execute_result"
    }
   ],
   "source": [
    "2+2\n",
    "50 - 5*6\n",
    "(50 - 5*6) / 4\n",
    "8 / 5 # деление всегда возвращает число с плавающей точкой"
   ]
  },
  {
   "cell_type": "markdown",
   "metadata": {},
   "source": [
    "Целые числа (например 2, 4, 20) имеют тип int, те, что с дробной частью (e.g. 5.0, 1.6) имеют тип float.\n",
    "\n",
    "Деление (/) в третьем питоне всегда возвращает float (во втором питоне деление целого числа на целое даёт целочисленное деление).\n",
    "\n",
    "// - оператор для целочисленного деления (без дробной части);\n",
    "\n",
    "% - расчёт остатка от деления;"
   ]
  },
  {
   "cell_type": "code",
   "execution_count": null,
   "metadata": {},
   "outputs": [],
   "source": [
    "17 // 3\n",
    "17 % 3\n",
    "5 ** 2 # возведение в степень"
   ]
  },
  {
   "cell_type": "markdown",
   "metadata": {},
   "source": [
    "Знак равенства (=) используется для присвоения значения переменной."
   ]
  },
  {
   "cell_type": "code",
   "execution_count": null,
   "metadata": {},
   "outputs": [],
   "source": [
    "width = 20\n",
    "height = 30\n",
    "S = width * height\n",
    "S"
   ]
  },
  {
   "cell_type": "markdown",
   "metadata": {},
   "source": [
    "Присутствует полная поддержка операций с плавающей точкой;\n",
    "\n",
    "Операции над операндами смешанного типа конвертируют целочисленный операнд в число с плавающей запятой:"
   ]
  },
  {
   "cell_type": "code",
   "execution_count": null,
   "metadata": {},
   "outputs": [],
   "source": [
    "3 * 3.75 / 1.5"
   ]
  },
  {
   "cell_type": "markdown",
   "metadata": {},
   "source": [
    "#### Cтроки\n",
    "\n",
    "Помимо чисел, Python может работать со строками, которые, в свою очередь, могут быть описаны различными способами.\n",
    "\n",
    "Строки могут юыть заключены в одинарные ('...') или двойные кавычки (\"...\"), без разницы;\n",
    "\n",
    "\\ может быть использован для экранирования кавычек:"
   ]
  },
  {
   "cell_type": "code",
   "execution_count": 14,
   "metadata": {},
   "outputs": [
    {
     "name": "stdout",
     "output_type": "stream",
     "text": [
      "spam eggs\n",
      "doenst't'\n",
      "doesnt't'\n",
      "\"Yes,\" he said.\n"
     ]
    }
   ],
   "source": [
    "print(\"spam eggs\")\n",
    "print(\"doenst\\'t'\")\n",
    "print(\"doesnt't'\")\n",
    "print('\"Yes,\" he said.')"
   ]
  },
  {
   "cell_type": "markdown",
   "metadata": {},
   "source": [
    "Cтроковые литералы могут занимать несколько строк. Один из способов сделать это - тройные кавычки \"\"\"...\"\"\" или '''...'''.\n",
    "Концы строк автоматически включаются в строку, но возможно избежать этого добавлением \\ в конце строки. Следующий пример:"
   ]
  },
  {
   "cell_type": "code",
   "execution_count": null,
   "metadata": {},
   "outputs": [],
   "source": [
    "print(\"\"\"\n",
    "Usage: thingy [OPTIONS]\n",
    "      -h                 Display this usage message\n",
    "      -H hostname        Hostname to connect to \\\n",
    "\"\"\")\n",
    "\n",
    "print('''\n",
    "Usage: thingy [OPTIONS]\n",
    "      -h                 Display this usage message\n",
    "      -H hostname        Hostname to connect to \\\n",
    "''')"
   ]
  },
  {
   "cell_type": "markdown",
   "metadata": {},
   "source": [
    "Строки могут быть конкатенированы (соеденины вместе) с помощью оператора +, и повторены с помощью *:"
   ]
  },
  {
   "cell_type": "code",
   "execution_count": null,
   "metadata": {},
   "outputs": [],
   "source": [
    "3 * 'un' + 'ium'\n",
    "a = 'Vasya'\n",
    "\n",
    "print(\"Hello, {}, {}!\".format(a, \"Kostya\"))\n",
    "print('{0}, {2}, {1}'.format('a', 'b', 'c'))"
   ]
  },
  {
   "cell_type": "markdown",
   "metadata": {},
   "source": [
    "#### Условные операторы"
   ]
  },
  {
   "cell_type": "code",
   "execution_count": null,
   "metadata": {},
   "outputs": [],
   "source": [
    "a = 1\n",
    "if a > 2:\n",
    "    print(\"H\")\n",
    "else:\n",
    "    print(\"L\")"
   ]
  },
  {
   "cell_type": "code",
   "execution_count": null,
   "metadata": {},
   "outputs": [],
   "source": [
    "a = int(input(\"Введите число:\"))\n",
    "if a < 0:\n",
    "    print(\"Neg\")\n",
    "elif a == 0:\n",
    "    print(\"Zero\")\n",
    "else:\n",
    "    print(\"Pos\")"
   ]
  }
 ],
 "metadata": {
  "kernelspec": {
   "display_name": "Python 3",
   "language": "python",
   "name": "python3"
  },
  "language_info": {
   "codemirror_mode": {
    "name": "ipython",
    "version": 3
   },
   "file_extension": ".py",
   "mimetype": "text/x-python",
   "name": "python",
   "nbconvert_exporter": "python",
   "pygments_lexer": "ipython3",
   "version": "3.13.2"
  }
 },
 "nbformat": 4,
 "nbformat_minor": 2
}
